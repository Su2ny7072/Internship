{
 "cells": [
  {
   "cell_type": "markdown",
   "id": "a317b5d8",
   "metadata": {},
   "source": [
    "# Regular Expressions"
   ]
  },
  {
   "cell_type": "raw",
   "id": "98ee42e5",
   "metadata": {},
   "source": [
    "Question 1- Write a Python program to replace all occurrences of a space, comma, or dot with a colon."
   ]
  },
  {
   "cell_type": "code",
   "execution_count": 1,
   "id": "e4637d16",
   "metadata": {},
   "outputs": [],
   "source": [
    "#Sample Text- 'Python Exercises, PHP exercises.'"
   ]
  },
  {
   "cell_type": "code",
   "execution_count": 202,
   "id": "7971ccf4",
   "metadata": {},
   "outputs": [
    {
     "name": "stdout",
     "output_type": "stream",
     "text": [
      "Python:Exercises::PHP:exercises:\n"
     ]
    }
   ],
   "source": [
    "input_text = 'Python Exercises, PHP exercises.'\n",
    "output_text = input_text.replace(' ', ':').replace(',', ':').replace('.', ':')\n",
    "print(output_text)"
   ]
  },
  {
   "cell_type": "raw",
   "id": "ce3914fd",
   "metadata": {},
   "source": [
    "Question 2-  Write a Python program to find all words starting with 'a' or 'e' in a given string."
   ]
  },
  {
   "cell_type": "code",
   "execution_count": 203,
   "id": "5397d751",
   "metadata": {},
   "outputs": [
    {
     "name": "stdout",
     "output_type": "stream",
     "text": [
      "['Apple', 'and', 'are', 'An', 'elephant']\n"
     ]
    }
   ],
   "source": [
    "import re\n",
    "input_text = 'Apple and banana are fruits. An elephant is big.'\n",
    "pattern = r'\\b[aeAE]\\w*\\b'\n",
    "matched_words = re.findall(pattern, input_text)\n",
    "print(matched_words)"
   ]
  },
  {
   "cell_type": "raw",
   "id": "83cccd0b",
   "metadata": {},
   "source": [
    "Question 3- Create a function in python to find all words that are at least 4 characters long in a string. The use of the re.compile() method is mandatory."
   ]
  },
  {
   "cell_type": "code",
   "execution_count": 204,
   "id": "bc5e7f81",
   "metadata": {},
   "outputs": [
    {
     "name": "stdout",
     "output_type": "stream",
     "text": [
      "['Python', 'powerful', 'programming', 'language', 'many', 'features']\n"
     ]
    }
   ],
   "source": [
    "import re\n",
    "\n",
    "def find_words_at_least_4_chars(input_text):\n",
    "    # Define the regex pattern\n",
    "    pattern = r'\\b\\w{4,}\\b'\n",
    "    matched_words = re.findall(pattern, input_text)\n",
    "    return matched_words\n",
    "input_text = 'Python is a powerful programming language. It has many features.'\n",
    "result = find_words_at_least_4_chars(input_text)\n",
    "print(result)"
   ]
  },
  {
   "cell_type": "raw",
   "id": "33510b4e",
   "metadata": {},
   "source": [
    "Question 4- Create a function in python to find all three, four, and five character words in a string. The use of the re.compile() method is mandatory."
   ]
  },
  {
   "cell_type": "code",
   "execution_count": 205,
   "id": "f2ce9fff",
   "metadata": {},
   "outputs": [
    {
     "name": "stdout",
     "output_type": "stream",
     "text": [
      "['very', 'has', 'many']\n"
     ]
    }
   ],
   "source": [
    "import re\n",
    "\n",
    "def find_words_3_to_5_chars(input_text):\n",
    "    # Define the regex pattern using re.compile()\n",
    "    pattern = re.compile(r'\\b\\w{3,5}\\b')\n",
    "    matched_words = pattern.findall(input_text)\n",
    "    return matched_words\n",
    "input_text = 'Python is a very powerful programming language. It has many features.'\n",
    "result = find_words_3_to_5_chars(input_text)\n",
    "print(result)"
   ]
  },
  {
   "cell_type": "raw",
   "id": "2a0840e6",
   "metadata": {},
   "source": [
    "Question 5- Create a function in Python to remove the parenthesis in a list of strings. The use of the re.compile() method is mandatory."
   ]
  },
  {
   "cell_type": "code",
   "execution_count": 206,
   "id": "f71f093c",
   "metadata": {},
   "outputs": [
    {
     "name": "stdout",
     "output_type": "stream",
     "text": [
      "example .com\n",
      "hr@fliprobo .com\n",
      "github .com\n",
      "Hello Data Science World\n",
      "Data Scientist\n"
     ]
    }
   ],
   "source": [
    "import re\n",
    "def format_text(text_list):\n",
    "    pattern = re.compile(r'\\((.*?)\\)')\n",
    "    result_list = [pattern.sub(r'\\1', text) if pattern.search(text) else text for text in text_list]\n",
    "    \n",
    "    return result_list\n",
    "sample_text_list = [\"example (.com)\", \"hr@fliprobo (.com)\", \"github (.com)\", \"Hello (Data Science World)\", \"Data (Scientist)\"]\n",
    "formatted_text_list = format_text(sample_text_list)\n",
    "for text in formatted_text_list:\n",
    "    print(text)"
   ]
  },
  {
   "cell_type": "raw",
   "id": "b406815a",
   "metadata": {},
   "source": [
    "Question 6- Write a python program to remove the parenthesis area from the text stored in the text file using Regular Expression."
   ]
  },
  {
   "cell_type": "code",
   "execution_count": 207,
   "id": "819dd512",
   "metadata": {},
   "outputs": [
    {
     "name": "stdout",
     "output_type": "stream",
     "text": [
      "[\"example \", \"hr@fliprobo \", \"github \", \"Hello \", \"Data \"]\n"
     ]
    }
   ],
   "source": [
    "import re\n",
    "def remove_parentheses(text):\n",
    "    return re.sub(r'\\([^)]*\\)', '', text)\n",
    "with open('input.txt', 'r') as file:\n",
    "    file_content = file.read()\n",
    "cleaned_text = remove_parentheses(file_content)\n",
    "print(cleaned_text)"
   ]
  },
  {
   "cell_type": "raw",
   "id": "d326f1c9",
   "metadata": {},
   "source": [
    "Question 7- Write a regular expression in Python to split a string into uppercase letters."
   ]
  },
  {
   "cell_type": "code",
   "execution_count": 208,
   "id": "ddc76bcf",
   "metadata": {},
   "outputs": [
    {
     "name": "stdout",
     "output_type": "stream",
     "text": [
      "['Importance', 'Of', 'Regular', 'Expressions', 'In', 'Python']\n"
     ]
    }
   ],
   "source": [
    "import re\n",
    "sample_text = \"ImportanceOfRegularExpressionsInPython\"\n",
    "words = re.findall(r'[A-Z][a-z]*', sample_text)\n",
    "print(words)"
   ]
  },
  {
   "cell_type": "raw",
   "id": "c06d8827",
   "metadata": {},
   "source": [
    "Question 8- Create a function in python to insert spaces between words starting with numbers."
   ]
  },
  {
   "cell_type": "code",
   "execution_count": 209,
   "id": "cf90f8f4",
   "metadata": {},
   "outputs": [
    {
     "name": "stdout",
     "output_type": "stream",
     "text": [
      "RegularExpression 1IsAn 2ImportantTopic 3InPython\n"
     ]
    }
   ],
   "source": [
    "import re\n",
    "\n",
    "def insert_spaces_between_numbers(text):\n",
    "    result = re.sub(r'(\\d)([A-Za-z])', r' \\1\\2', text)\n",
    "    return result\n",
    "sample_text = \"RegularExpression1IsAn2ImportantTopic3InPython\"\n",
    "output_text = insert_spaces_between_numbers(sample_text)\n",
    "print(output_text)"
   ]
  },
  {
   "cell_type": "raw",
   "id": "5dfb3cc5",
   "metadata": {},
   "source": [
    "Question 9- Create a function in python to insert spaces between words starting with capital letters or with numbers."
   ]
  },
  {
   "cell_type": "code",
   "execution_count": 210,
   "id": "035f434e",
   "metadata": {},
   "outputs": [
    {
     "name": "stdout",
     "output_type": "stream",
     "text": [
      "RegularExpression 1 IsAn 2 ImportantTopic 3 InPython\n"
     ]
    }
   ],
   "source": [
    "import re\n",
    "\n",
    "def insert_spaces(text):\n",
    "    result = re.sub(r'(\\d)([A-Z])', r' \\1 \\2', text)\n",
    "    result = re.sub(r'([a-z])([A-Z0-9])', r'\\1\\2', result)\n",
    "    \n",
    "    return result\n",
    "sample_text = \"RegularExpression1IsAn2ImportantTopic3InPython\"\n",
    "formatted_text = insert_spaces(sample_text)\n",
    "print(formatted_text)"
   ]
  },
  {
   "cell_type": "raw",
   "id": "50194cdd",
   "metadata": {},
   "source": [
    "Question 10- Write a python program to extract email address from the text stored in the text file using Regular Expression."
   ]
  },
  {
   "cell_type": "code",
   "execution_count": 211,
   "id": "5981804c",
   "metadata": {},
   "outputs": [
    {
     "name": "stdout",
     "output_type": "stream",
     "text": [
      "xyz@domain.com\n",
      "xyz.abc@sdomain.domain.com.\n",
      "hr@fliprobo.com\n"
     ]
    }
   ],
   "source": [
    "import re\n",
    "def extract_email_addresses(text):\n",
    "    email_pattern = r'\\S+@\\S+'  \n",
    "    return re.findall(email_pattern, text)\n",
    "with open('sample_text.txt', 'r') as file:\n",
    "    file_content = file.read()\n",
    "\n",
    "email_addresses = extract_email_addresses(file_content)\n",
    "for email in email_addresses:\n",
    "    print(email)"
   ]
  },
  {
   "cell_type": "raw",
   "id": "ec167af6",
   "metadata": {},
   "source": [
    "Question 11- Write a Python program to match a string that contains only upper and lowercase letters, numbers, and underscores."
   ]
  },
  {
   "cell_type": "code",
   "execution_count": 212,
   "id": "70bab535",
   "metadata": {},
   "outputs": [
    {
     "name": "stdout",
     "output_type": "stream",
     "text": [
      "'hello' is a valid string.\n",
      "'GOOD MORNING' is not a valid string.\n",
      "'12345' is a valid string.\n",
      "'Sunny_Here' is a valid string.\n"
     ]
    }
   ],
   "source": [
    "import re\n",
    "def is_valid_string(input_string):\n",
    "    pattern = r'^[a-zA-Z0-9_]+$'\n",
    "    return bool(re.match(pattern, input_string))\n",
    "strings_to_test = [\"hello\", \"GOOD MORNING\", \"12345\", \"Sunny_Here\"]\n",
    "\n",
    "for string in strings_to_test:\n",
    "    if is_valid_string(string):\n",
    "        print(f\"'{string}' is a valid string.\")\n",
    "    else:\n",
    "        print(f\"'{string}' is not a valid string.\")"
   ]
  },
  {
   "cell_type": "raw",
   "id": "d9f9d1d1",
   "metadata": {},
   "source": [
    "Question 12- Write a Python program where a string will start with a specific number. "
   ]
  },
  {
   "cell_type": "code",
   "execution_count": 213,
   "id": "f34946e0",
   "metadata": {},
   "outputs": [
    {
     "name": "stdout",
     "output_type": "stream",
     "text": [
      "The string starts with the number 12345.\n"
     ]
    }
   ],
   "source": [
    "import re\n",
    "def starts_with_number(input_string, number):\n",
    "    pattern = fr\"^{number}\\b\"\n",
    "    return bool(re.match(pattern, input_string))\n",
    "input_string = \"12345 Good Morning\"\n",
    "specific_number = 12345\n",
    "\n",
    "if starts_with_number(input_string, specific_number):\n",
    "    print(f\"The string starts with the number {specific_number}.\")\n",
    "else:\n",
    "    print(f\"The string does not start with the number {specific_number}.\")"
   ]
  },
  {
   "cell_type": "raw",
   "id": "6d908756",
   "metadata": {},
   "source": [
    "Question 13- Write a Python program to remove leading zeros from an IP address"
   ]
  },
  {
   "cell_type": "code",
   "execution_count": 214,
   "id": "75a5a131",
   "metadata": {},
   "outputs": [
    {
     "name": "stdout",
     "output_type": "stream",
     "text": [
      "Original IP Address: 191.167.001.001\n",
      "Cleaned IP Address: 191.167.1.1\n"
     ]
    }
   ],
   "source": [
    "import re\n",
    "def remove_leading_zeros(ip_address):\n",
    "    pattern = r'\\b0+(\\d+)'\n",
    "    cleaned_ip_address = re.sub(pattern, r'\\1', ip_address)\n",
    "\n",
    "    return cleaned_ip_address\n",
    "ip_address = \"191.167.001.001\"\n",
    "cleaned_ip = remove_leading_zeros(ip_address)\n",
    "print(\"Original IP Address:\", ip_address)\n",
    "print(\"Cleaned IP Address:\", cleaned_ip)"
   ]
  },
  {
   "cell_type": "raw",
   "id": "d7c28f7f",
   "metadata": {},
   "source": [
    "Question 14- Write a regular expression in python to match a date string in the form of Month name followed by day number and year stored in a text file."
   ]
  },
  {
   "cell_type": "code",
   "execution_count": 215,
   "id": "088cd9fc",
   "metadata": {},
   "outputs": [
    {
     "name": "stdout",
     "output_type": "stream",
     "text": [
      "August 15th 1947\n"
     ]
    }
   ],
   "source": [
    "import re\n",
    "def extract_dates_from_text(file_path):\n",
    "    with open(file_path, 'r') as file:\n",
    "        text = file.read()\n",
    "    pattern = r'\\b[A-Z][a-z]+\\s\\d{1,2}(?:st|nd|rd|th)?\\s\\d{4}\\b'\n",
    "    date_matches = re.findall(pattern, text)\n",
    "\n",
    "    return date_matches\n",
    "file_path = 'date format.txt'\n",
    "dates = extract_dates_from_text(file_path)\n",
    "for date in dates:\n",
    "    print(date)"
   ]
  },
  {
   "cell_type": "raw",
   "id": "61c617f6",
   "metadata": {},
   "source": [
    "Question 15- Write a Python program to search some literals strings in a string. "
   ]
  },
  {
   "cell_type": "code",
   "execution_count": 216,
   "id": "c64f11cd",
   "metadata": {},
   "outputs": [
    {
     "name": "stdout",
     "output_type": "stream",
     "text": [
      "'fox' found in the text.\n",
      "'dog' found in the text.\n",
      "'horse' not found in the text.\n"
     ]
    }
   ],
   "source": [
    "# Using the in keyword:\n",
    "text = 'The quick brown fox jumps over the lazy dog.'\n",
    "search_strings = ['fox', 'dog', 'horse']\n",
    "for search_string in search_strings:\n",
    "    if search_string in text:\n",
    "        print(f\"'{search_string}' found in the text.\")\n",
    "    else:\n",
    "        print(f\"'{search_string}' not found in the text.\")"
   ]
  },
  {
   "cell_type": "code",
   "execution_count": 217,
   "id": "95212c84",
   "metadata": {},
   "outputs": [
    {
     "name": "stdout",
     "output_type": "stream",
     "text": [
      "Matched words: fox, dog\n"
     ]
    }
   ],
   "source": [
    "import re\n",
    "text = 'The quick brown fox jumps over the lazy dog.'\n",
    "searched_words = ['fox', 'dog', 'horse']\n",
    "pattern = re.compile(\"|\".join(map(re.escape, searched_words)))\n",
    "matches = pattern.findall(text)\n",
    "if matches:\n",
    "    print(f\"Matched words: {', '.join(matches)}\")\n",
    "else:\n",
    "    print(\"No matches found.\")"
   ]
  },
  {
   "cell_type": "raw",
   "id": "97fab584",
   "metadata": {},
   "source": [
    "Question 16- Write a Python program to search a literals string in a string and also find the location within the original string where the pattern occurs"
   ]
  },
  {
   "cell_type": "code",
   "execution_count": 218,
   "id": "2973c3d4",
   "metadata": {},
   "outputs": [
    {
     "name": "stdout",
     "output_type": "stream",
     "text": [
      "'fox' found in the text at index 16.\n"
     ]
    }
   ],
   "source": [
    "text = 'The quick brown fox jumps over the lazy dog.'\n",
    "search_strings = ['fox']\n",
    "for search_string in search_strings:\n",
    "    index = text.find(search_string)\n",
    "    if index != -1:\n",
    "        print(f\"'{search_string}' found in the text at index {index}.\")\n",
    "    else:\n",
    "        print(f\"'{search_string}' not found in the text.\")"
   ]
  },
  {
   "cell_type": "code",
   "execution_count": 219,
   "id": "d55f6e81",
   "metadata": {},
   "outputs": [
    {
     "name": "stdout",
     "output_type": "stream",
     "text": [
      "'fox' found in the text at index 16.\n"
     ]
    }
   ],
   "source": [
    "import re\n",
    "text = 'The quick brown fox jumps over the lazy dog.'\n",
    "searched_string = 'fox'\n",
    "pattern = re.compile(re.escape(searched_string))\n",
    "match = pattern.search(text)\n",
    "if match:\n",
    "    start_index = match.start()\n",
    "    print(f\"'{searched_string}' found in the text at index {start_index}.\")\n",
    "else:\n",
    "    print(f\"'{searched_string}' not found in the text.\")"
   ]
  },
  {
   "cell_type": "raw",
   "id": "cea3d1df",
   "metadata": {},
   "source": [
    "Question 17- Write a Python program to find the substrings within a string."
   ]
  },
  {
   "cell_type": "code",
   "execution_count": 164,
   "id": "b04cee61",
   "metadata": {},
   "outputs": [
    {
     "name": "stdout",
     "output_type": "stream",
     "text": [
      "Matched substrings: exercises, exercises, exercises\n"
     ]
    }
   ],
   "source": [
    "import re\n",
    "\n",
    "# Sample text\n",
    "text = 'Python exercises, PHP exercises, C# exercises'\n",
    "\n",
    "# Substring pattern to search for\n",
    "substring_pattern = 'exercises'\n",
    "\n",
    "# Find all occurrences of the substring pattern in the text using re.findall()\n",
    "matches = re.findall(substring_pattern, text)\n",
    "\n",
    "# Print the matched substrings\n",
    "if matches:\n",
    "    print(f\"Matched substrings: {', '.join(matches)}\")\n",
    "else:\n",
    "    print(\"No matches found.\")"
   ]
  },
  {
   "cell_type": "code",
   "execution_count": 220,
   "id": "742afb72",
   "metadata": {},
   "outputs": [
    {
     "name": "stdout",
     "output_type": "stream",
     "text": [
      "Matched substrings: exercises, exercises, exercises\n"
     ]
    }
   ],
   "source": [
    "import re\n",
    "text = 'Python exercises, PHP exercises, C# exercises'\n",
    "substring_pattern = 'exercises'\n",
    "matches = [match.group() for match in re.finditer(substring_pattern, text)]\n",
    "if matches:\n",
    "    print(f\"Matched substrings: {', '.join(matches)}\")\n",
    "else:\n",
    "    print(\"No matches found.\")"
   ]
  },
  {
   "cell_type": "raw",
   "id": "729a9b91",
   "metadata": {},
   "source": [
    "Question 18- Write a Python program to find the occurrence and position of the substrings within a string."
   ]
  },
  {
   "cell_type": "code",
   "execution_count": 221,
   "id": "ca37c2af",
   "metadata": {},
   "outputs": [
    {
     "name": "stdout",
     "output_type": "stream",
     "text": [
      "Number of occurrences: 3\n",
      "Occurrences found at positions:\n",
      "Start: 7, End: 16, Substring: exercises\n",
      "Start: 22, End: 31, Substring: exercises\n",
      "Start: 36, End: 45, Substring: exercises\n"
     ]
    }
   ],
   "source": [
    "import re\n",
    "text = 'Python exercises, PHP exercises, C# exercises'\n",
    "substring_pattern = 'exercises'\n",
    "matches = [match for match in re.finditer(substring_pattern, text)]\n",
    "if matches:\n",
    "    print(f\"Number of occurrences: {len(matches)}\")\n",
    "    print(\"Occurrences found at positions:\")\n",
    "    for match in matches:\n",
    "        start_index = match.start()\n",
    "        end_index = match.end()\n",
    "        print(f\"Start: {start_index}, End: {end_index}, Substring: {text[start_index:end_index]}\")\n",
    "else:\n",
    "    print(\"No matches found.\")"
   ]
  },
  {
   "cell_type": "raw",
   "id": "c31e80c7",
   "metadata": {},
   "source": [
    "Question 19- Write a Python program to convert a date of yyyy-mm-dd format to dd-mm-yyyy format."
   ]
  },
  {
   "cell_type": "code",
   "execution_count": 222,
   "id": "10325567",
   "metadata": {},
   "outputs": [
    {
     "name": "stdout",
     "output_type": "stream",
     "text": [
      "Original date: 2023-09-27\n",
      "Converted date: 27-09-2023\n"
     ]
    }
   ],
   "source": [
    "import re\n",
    "input_date = \"2023-09-27\"\n",
    "pattern = r\"(\\d{4})-(\\d{2})-(\\d{2})\"\n",
    "converted_date = re.sub(pattern, r\"\\3-\\2-\\1\", input_date)\n",
    "print(f\"Original date: {input_date}\")\n",
    "print(f\"Converted date: {converted_date}\")"
   ]
  },
  {
   "cell_type": "raw",
   "id": "8e361b8d",
   "metadata": {},
   "source": [
    "Question 20- Create a function in python to find all decimal numbers with a precision of 1 or 2 in a string. The use of the re.compile() method is mandatory."
   ]
  },
  {
   "cell_type": "code",
   "execution_count": 223,
   "id": "35ba6f2c",
   "metadata": {},
   "outputs": [
    {
     "name": "stdout",
     "output_type": "stream",
     "text": [
      "['01.12', '145.8', '3.01', '27.25', '0.25']\n"
     ]
    }
   ],
   "source": [
    "import re\n",
    "\n",
    "def find_decimal_numbers(text):\n",
    "    pattern = re.compile(r'\\b\\d+\\.\\d{1,2}\\b')\n",
    "    decimal_numbers = pattern.findall(text)\n",
    "\n",
    "    return decimal_numbers\n",
    "sample_text = \"01.12 0132.123 2.31875 145.8 3.01 27.25 0.25\"\n",
    "decimal_numbers = find_decimal_numbers(sample_text)\n",
    "print(decimal_numbers)"
   ]
  },
  {
   "cell_type": "raw",
   "id": "76b56088",
   "metadata": {},
   "source": [
    "Question 21- Write a Python program to separate and print the numbers and their position of a given string."
   ]
  },
  {
   "cell_type": "code",
   "execution_count": 224,
   "id": "d5b123b9",
   "metadata": {},
   "outputs": [
    {
     "name": "stdout",
     "output_type": "stream",
     "text": [
      "Number: 31, Position: 26\n",
      "Number: 51, Position: 29\n",
      "Number: 5, Position: 52\n"
     ]
    }
   ],
   "source": [
    "import re\n",
    "\n",
    "def find_numbers_with_positions(text):\n",
    "    pattern = re.compile(r'\\d+')\n",
    "    for match in pattern.finditer(text):\n",
    "        number = match.group()\n",
    "        position = match.start()\n",
    "        print(f\"Number: {number}, Position: {position}\")\n",
    "sample_text = \"The price of the item is $31.51 and the quantity is 5.\"\n",
    "find_numbers_with_positions(sample_text)"
   ]
  },
  {
   "cell_type": "raw",
   "id": "91f8877e",
   "metadata": {},
   "source": [
    "Question 22- Write a regular expression in python program to extract maximum/largest numeric value from a string."
   ]
  },
  {
   "cell_type": "code",
   "execution_count": 225,
   "id": "c2a0524d",
   "metadata": {},
   "outputs": [
    {
     "name": "stdout",
     "output_type": "stream",
     "text": [
      "Maximum Numeric Value: 950\n"
     ]
    }
   ],
   "source": [
    "import re\n",
    "\n",
    "def extract_maximum_numeric_value(text):\n",
    "    pattern = re.compile(r'\\d+')\n",
    "    numeric_values = pattern.findall(text)\n",
    "    max_value = max(map(int, numeric_values))\n",
    "\n",
    "    return max_value\n",
    "sample_text = 'My marks in each semester are: 947, 896, 926, 524, 734, 950, 642'\n",
    "max_numeric_value = extract_maximum_numeric_value(sample_text)\n",
    "print(f\"Maximum Numeric Value: {max_numeric_value}\")"
   ]
  },
  {
   "cell_type": "raw",
   "id": "f9e5711c",
   "metadata": {},
   "source": [
    "Question 23- Create a function in python to insert spaces between words starting with capital letters."
   ]
  },
  {
   "cell_type": "code",
   "execution_count": 226,
   "id": "d845791a",
   "metadata": {},
   "outputs": [
    {
     "name": "stdout",
     "output_type": "stream",
     "text": [
      "Regular Expression Is An Important Topic In Python\n"
     ]
    }
   ],
   "source": [
    "import re\n",
    "\n",
    "def insert_spaces_before_capitals(text):\n",
    "    pattern = re.compile(r'([A-Z][a-z]*)')\n",
    "    spaced_text = re.sub(pattern, r' \\1', text)\n",
    "    spaced_text = spaced_text.lstrip()\n",
    "\n",
    "    return spaced_text\n",
    "sample_text = \"RegularExpressionIsAnImportantTopicInPython\"\n",
    "result_text = insert_spaces_before_capitals(sample_text)\n",
    "print(result_text)"
   ]
  },
  {
   "cell_type": "raw",
   "id": "f542d449",
   "metadata": {},
   "source": [
    "Question 24- Python regex to find sequences of one upper case letter followed by lower case letters"
   ]
  },
  {
   "cell_type": "code",
   "execution_count": 227,
   "id": "0f4ad775",
   "metadata": {},
   "outputs": [
    {
     "name": "stdout",
     "output_type": "stream",
     "text": [
      "This\n",
      "Sample\n",
      "Text\n",
      "Uppercase\n",
      "Apple\n",
      "Cherry\n"
     ]
    }
   ],
   "source": [
    "import re\n",
    "sample_text = \"This is a Sample Text with Uppercase and lowercase words like Apple, banana, and Cherry.\"\n",
    "matches = re.findall(r'[A-Z][a-z]+', sample_text)\n",
    "for match in matches:\n",
    "    print(match)"
   ]
  },
  {
   "cell_type": "raw",
   "id": "7b0b88f4",
   "metadata": {},
   "source": [
    "Question 25- Write a Python program to remove continuous duplicate words from Sentence using Regular Expression."
   ]
  },
  {
   "cell_type": "code",
   "execution_count": 228,
   "id": "c6ab0d17",
   "metadata": {},
   "outputs": [
    {
     "name": "stdout",
     "output_type": "stream",
     "text": [
      "Hello hello world\n"
     ]
    }
   ],
   "source": [
    "import re\n",
    "\n",
    "def remove_continuous_duplicates(sentence):\n",
    "    cleaned_sentence = re.sub(r'\\b(\\w+)(\\s+\\1)+\\b', r'\\1', sentence)\n",
    "    \n",
    "    return cleaned_sentence\n",
    "sample_sentence = \"Hello hello world world\"\n",
    "cleaned_sentence = remove_continuous_duplicates(sample_sentence)\n",
    "print(cleaned_sentence)"
   ]
  },
  {
   "cell_type": "raw",
   "id": "a2d1204f",
   "metadata": {},
   "source": [
    "Question 26-  Write a python program using RegEx to accept string ending with alphanumeric character."
   ]
  },
  {
   "cell_type": "code",
   "execution_count": 229,
   "id": "c53cf6f6",
   "metadata": {},
   "outputs": [
    {
     "name": "stdout",
     "output_type": "stream",
     "text": [
      "True\n",
      "False\n",
      "True\n"
     ]
    }
   ],
   "source": [
    "import re\n",
    "\n",
    "def ends_with_alphanumeric(input_string):\n",
    "    pattern = re.compile(r'.*[a-zA-Z0-9]$')\n",
    "    if pattern.match(input_string):\n",
    "        return True\n",
    "    else:\n",
    "        return False\n",
    "test_string1 = \"Hello123\"\n",
    "test_string2 = \"Goodbye!\"\n",
    "test_string3 = \"Python3\"\n",
    "\n",
    "print(ends_with_alphanumeric(test_string1))\n",
    "print(ends_with_alphanumeric(test_string2))\n",
    "print(ends_with_alphanumeric(test_string3))"
   ]
  },
  {
   "cell_type": "raw",
   "id": "c932cfa3",
   "metadata": {},
   "source": [
    "Question 27-Write a python program using RegEx to extract the hashtags."
   ]
  },
  {
   "cell_type": "code",
   "execution_count": 230,
   "id": "28ea562d",
   "metadata": {},
   "outputs": [
    {
     "name": "stdout",
     "output_type": "stream",
     "text": [
      "['#Doltiwal', '#xyzabc', '#Demonetization']\n"
     ]
    }
   ],
   "source": [
    "import re\n",
    "\n",
    "def extract_hashtags(input_string):\n",
    "    pattern = re.compile(r'#\\w+')\n",
    "    hashtags = pattern.findall(input_string)\n",
    "\n",
    "    return hashtags\n",
    "text = \"\"\"RT @kapil_kausik: #Doltiwal I mean #xyzabc is \"hurt\" by #Demonetization as the same has rendered USELESS <ed><U+00A0><U+00BD><ed><U+00B1><U+0089> \"acquired funds\" No wo\"\"\"\n",
    "hashtags = extract_hashtags(text)\n",
    "print(hashtags)"
   ]
  },
  {
   "cell_type": "raw",
   "id": "24709bc8",
   "metadata": {},
   "source": [
    "Question 28- Write a python program using RegEx to remove <U+..> like symbols"
   ]
  },
  {
   "cell_type": "code",
   "execution_count": 231,
   "id": "f7910501",
   "metadata": {},
   "outputs": [
    {
     "name": "stdout",
     "output_type": "stream",
     "text": [
      "@Jags123456 Bharat band on 28??<ed><ed>Those who  are protesting #demonetization  are all different party leaders\n"
     ]
    }
   ],
   "source": [
    "import re\n",
    "\n",
    "def remove_u_plus_symbols(input_text):\n",
    "    pattern = re.compile(r'<U\\+\\w+>')\n",
    "    cleaned_text = re.sub(pattern, '', input_text)\n",
    "\n",
    "    return cleaned_text\n",
    "sample_text = \"@Jags123456 Bharat band on 28??<ed><U+00A0><U+00BD><ed><U+00B8><U+0082>Those who  are protesting #demonetization  are all different party leaders\"\n",
    "cleaned_text = remove_u_plus_symbols(sample_text)\n",
    "print(cleaned_text)"
   ]
  },
  {
   "cell_type": "raw",
   "id": "6f31a6a6",
   "metadata": {},
   "source": [
    "Question 29- Write a python program to extract dates from the text stored in the text file."
   ]
  },
  {
   "cell_type": "code",
   "execution_count": 232,
   "id": "b78cbf2d",
   "metadata": {},
   "outputs": [
    {
     "name": "stdout",
     "output_type": "stream",
     "text": [
      "12-09-1992\n",
      "15-12-1999\n"
     ]
    }
   ],
   "source": [
    "import re\n",
    "def extract_dates_from_file(file_path):\n",
    "    try:\n",
    "        with open(file_path, 'r') as file:\n",
    "            text = file.read()\n",
    "            pattern = re.compile(r'\\d{2}-\\d{2}-\\d{4}')\n",
    "            dates = pattern.findall(text)\n",
    "            return dates\n",
    "    except FileNotFoundError:\n",
    "        return None\n",
    "file_path = 'eg.txt'\n",
    "extracted_dates = extract_dates_from_file(file_path)\n",
    "if extracted_dates:\n",
    "    for date in extracted_dates:\n",
    "        print(date)\n",
    "else:\n",
    "    print(\"File not found.\")"
   ]
  },
  {
   "cell_type": "raw",
   "id": "bd3c32db",
   "metadata": {},
   "source": [
    "Question 30- Create a function in python to remove all words from a string of length between 2 and 4."
   ]
  },
  {
   "cell_type": "code",
   "execution_count": 233,
   "id": "f0490647",
   "metadata": {},
   "outputs": [
    {
     "name": "stdout",
     "output_type": "stream",
     "text": [
      "following example creates ArrayList a capacity elements. 4 elements added ArrayList ArrayList trimmed accordingly.\n"
     ]
    }
   ],
   "source": [
    "import re\n",
    "\n",
    "def remove_words_between_length_2_and_4(input_string):\n",
    "    pattern = re.compile(r'\\b\\w{2,4}\\b')\n",
    "    cleaned_string = re.sub(pattern, '', input_string)\n",
    "    cleaned_string = re.sub(r'\\s+', ' ', cleaned_string).strip()\n",
    "\n",
    "    return cleaned_string\n",
    "input_text = \"The following example creates an ArrayList with a capacity of 50 elements. 4 elements are then added to the ArrayList and the ArrayList is trimmed accordingly.\"\n",
    "cleaned_text = remove_words_between_length_2_and_4(input_text)\n",
    "print(cleaned_text)"
   ]
  },
  {
   "cell_type": "code",
   "execution_count": null,
   "id": "916020fa",
   "metadata": {},
   "outputs": [],
   "source": []
  }
 ],
 "metadata": {
  "kernelspec": {
   "display_name": "Python 3 (ipykernel)",
   "language": "python",
   "name": "python3"
  },
  "language_info": {
   "codemirror_mode": {
    "name": "ipython",
    "version": 3
   },
   "file_extension": ".py",
   "mimetype": "text/x-python",
   "name": "python",
   "nbconvert_exporter": "python",
   "pygments_lexer": "ipython3",
   "version": "3.10.9"
  }
 },
 "nbformat": 4,
 "nbformat_minor": 5
}
